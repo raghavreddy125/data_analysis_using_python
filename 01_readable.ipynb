{
 "cells": [
  {
   "cell_type": "code",
   "execution_count": 1,
   "id": "a634ecc3-cfd0-49f8-b510-698c3cf3fe54",
   "metadata": {
    "tags": []
   },
   "outputs": [],
   "source": [
    "import json"
   ]
  },
  {
   "cell_type": "code",
   "execution_count": 2,
   "id": "bfde04ab-6669-4ede-8547-3d1be00795d2",
   "metadata": {
    "tags": []
   },
   "outputs": [],
   "source": [
    "# writing a function to load the data "
   ]
  },
  {
   "cell_type": "code",
   "execution_count": 3,
   "id": "cb8d522a-bf6a-42d9-8127-0f1dbc52c8f9",
   "metadata": {
    "tags": []
   },
   "outputs": [],
   "source": [
    "def load_data(filename):\n",
    "    with open(filename,\"r\") as f:\n",
    "        data = json.load(f)\n",
    "    return data"
   ]
  },
  {
   "cell_type": "code",
   "execution_count": 6,
   "id": "fa1eae9d-6397-42c9-8f94-9c192ddc8c5d",
   "metadata": {
    "tags": []
   },
   "outputs": [],
   "source": [
    "data = load_data(\"data.json\")"
   ]
  },
  {
   "cell_type": "code",
   "execution_count": 7,
   "id": "a8b4f8ba-a252-49d2-81a4-05944012a922",
   "metadata": {
    "tags": []
   },
   "outputs": [
    {
     "data": {
      "text/plain": [
       "{'users': [{'id': 1, 'name': 'Amit', 'friends': [2, 3], 'liked_pages': [101]},\n",
       "  {'id': 2, 'name': 'Priya', 'friends': [1, 4], 'liked_pages': [102]},\n",
       "  {'id': 3, 'name': 'Rahul', 'friends': [1], 'liked_pages': [101, 103]},\n",
       "  {'id': 4, 'name': 'Sara', 'friends': [2], 'liked_pages': [104]}],\n",
       " 'pages': [{'id': 101, 'name': 'Python Developers'},\n",
       "  {'id': 102, 'name': 'Data Science Enthusiasts'},\n",
       "  {'id': 103, 'name': 'AI & ML Community'},\n",
       "  {'id': 104, 'name': 'Web Dev Hub'}]}"
      ]
     },
     "execution_count": 7,
     "metadata": {},
     "output_type": "execute_result"
    }
   ],
   "source": [
    "data\n"
   ]
  },
  {
   "cell_type": "code",
   "execution_count": 8,
   "id": "52bc7ad1-1287-4cb0-8d93-84baeadd9706",
   "metadata": {
    "tags": []
   },
   "outputs": [
    {
     "data": {
      "text/plain": [
       "dict"
      ]
     },
     "execution_count": 8,
     "metadata": {},
     "output_type": "execute_result"
    }
   ],
   "source": [
    "type(data)"
   ]
  },
  {
   "cell_type": "code",
   "execution_count": 9,
   "id": "44ce174b-ca00-4895-9b46-1d7ef898fe1d",
   "metadata": {
    "tags": []
   },
   "outputs": [],
   "source": [
    "# write a function to display users and their connections  "
   ]
  },
  {
   "cell_type": "code",
   "execution_count": 12,
   "id": "08b9866a-bc63-4713-879b-a3e3d8272d71",
   "metadata": {
    "tags": []
   },
   "outputs": [
    {
     "name": "stdout",
     "output_type": "stream",
     "text": [
      "Users and their connections:\n",
      "ID: 1, Amit is friends with: [2, 3] and  liked pages are [101]\n",
      "ID: 2, Priya is friends with: [1, 4] and  liked pages are [102]\n",
      "ID: 3, Rahul is friends with: [1] and  liked pages are [101, 103]\n",
      "ID: 4, Sara is friends with: [2] and  liked pages are [104]\n",
      "\n",
      "Pages Information\n",
      "101: Python Developers\n",
      "102: Data Science Enthusiasts\n",
      "103: AI & ML Community\n",
      "104: Web Dev Hub\n"
     ]
    }
   ],
   "source": [
    "def display_users(data):\n",
    "    print(\"Users and their connections:\")\n",
    "    for user in data['users']:\n",
    "        print(f\"ID: {user['id']}, {user['name']} is friends with: {user['friends']} and  liked pages are {user['liked_pages']}\")\n",
    "    print(\"\\nPages Information\")\n",
    "    for page in data['pages']:\n",
    "        print(f\"{page['id']}: {page['name']}\")\n",
    "display_users(data)\n"
   ]
  }
 ],
 "metadata": {
  "kernelspec": {
   "display_name": "Python 3 (ipykernel)",
   "language": "python",
   "name": "python3"
  },
  "language_info": {
   "codemirror_mode": {
    "name": "ipython",
    "version": 3
   },
   "file_extension": ".py",
   "mimetype": "text/x-python",
   "name": "python",
   "nbconvert_exporter": "python",
   "pygments_lexer": "ipython3",
   "version": "3.11.5"
  }
 },
 "nbformat": 4,
 "nbformat_minor": 5
}
